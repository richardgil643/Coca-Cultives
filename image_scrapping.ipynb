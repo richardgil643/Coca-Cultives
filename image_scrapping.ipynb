{
  "cells": [
    {
      "cell_type": "markdown",
      "metadata": {
        "id": "wNKK97UPqSX7"
      },
      "source": [
        "### 1. The first Part of this code try with one image to test the download of the image in drive"
      ]
    },
    {
      "cell_type": "code",
      "execution_count": null,
      "metadata": {
        "colab": {
          "base_uri": "https://localhost:8080/"
        },
        "id": "eNf7dx8fNaN9",
        "outputId": "7d1ac47f-e747-4cbe-8556-9b053136cab6"
      },
      "outputs": [
        {
          "name": "stdout",
          "output_type": "stream",
          "text": [
            "Requirement already satisfied: earthengine-api in /usr/local/lib/python3.7/dist-packages (0.1.301)\n",
            "Requirement already satisfied: future in /usr/local/lib/python3.7/dist-packages (from earthengine-api) (0.16.0)\n",
            "Requirement already satisfied: httplib2<1dev,>=0.9.2 in /usr/local/lib/python3.7/dist-packages (from earthengine-api) (0.17.4)\n",
            "Requirement already satisfied: google-cloud-storage in /usr/local/lib/python3.7/dist-packages (from earthengine-api) (1.18.1)\n",
            "Requirement already satisfied: google-auth>=1.4.1 in /usr/local/lib/python3.7/dist-packages (from earthengine-api) (1.35.0)\n",
            "Requirement already satisfied: google-auth-httplib2>=0.0.3 in /usr/local/lib/python3.7/dist-packages (from earthengine-api) (0.0.4)\n",
            "Requirement already satisfied: httplib2shim in /usr/local/lib/python3.7/dist-packages (from earthengine-api) (0.0.3)\n",
            "Requirement already satisfied: google-api-python-client<2,>=1.12.1 in /usr/local/lib/python3.7/dist-packages (from earthengine-api) (1.12.10)\n",
            "Requirement already satisfied: six in /usr/local/lib/python3.7/dist-packages (from earthengine-api) (1.15.0)\n",
            "Requirement already satisfied: google-api-core<3dev,>=1.21.0 in /usr/local/lib/python3.7/dist-packages (from google-api-python-client<2,>=1.12.1->earthengine-api) (1.26.3)\n",
            "Requirement already satisfied: uritemplate<4dev,>=3.0.0 in /usr/local/lib/python3.7/dist-packages (from google-api-python-client<2,>=1.12.1->earthengine-api) (3.0.1)\n",
            "Requirement already satisfied: googleapis-common-protos<2.0dev,>=1.6.0 in /usr/local/lib/python3.7/dist-packages (from google-api-core<3dev,>=1.21.0->google-api-python-client<2,>=1.12.1->earthengine-api) (1.55.0)\n",
            "Requirement already satisfied: protobuf>=3.12.0 in /usr/local/lib/python3.7/dist-packages (from google-api-core<3dev,>=1.21.0->google-api-python-client<2,>=1.12.1->earthengine-api) (3.17.3)\n",
            "Requirement already satisfied: requests<3.0.0dev,>=2.18.0 in /usr/local/lib/python3.7/dist-packages (from google-api-core<3dev,>=1.21.0->google-api-python-client<2,>=1.12.1->earthengine-api) (2.23.0)\n",
            "Requirement already satisfied: setuptools>=40.3.0 in /usr/local/lib/python3.7/dist-packages (from google-api-core<3dev,>=1.21.0->google-api-python-client<2,>=1.12.1->earthengine-api) (57.4.0)\n",
            "Requirement already satisfied: packaging>=14.3 in /usr/local/lib/python3.7/dist-packages (from google-api-core<3dev,>=1.21.0->google-api-python-client<2,>=1.12.1->earthengine-api) (21.3)\n",
            "Requirement already satisfied: pytz in /usr/local/lib/python3.7/dist-packages (from google-api-core<3dev,>=1.21.0->google-api-python-client<2,>=1.12.1->earthengine-api) (2018.9)\n",
            "Requirement already satisfied: pyasn1-modules>=0.2.1 in /usr/local/lib/python3.7/dist-packages (from google-auth>=1.4.1->earthengine-api) (0.2.8)\n",
            "Requirement already satisfied: rsa<5,>=3.1.4 in /usr/local/lib/python3.7/dist-packages (from google-auth>=1.4.1->earthengine-api) (4.8)\n",
            "Requirement already satisfied: cachetools<5.0,>=2.0.0 in /usr/local/lib/python3.7/dist-packages (from google-auth>=1.4.1->earthengine-api) (4.2.4)\n",
            "Requirement already satisfied: pyparsing!=3.0.5,>=2.0.2 in /usr/local/lib/python3.7/dist-packages (from packaging>=14.3->google-api-core<3dev,>=1.21.0->google-api-python-client<2,>=1.12.1->earthengine-api) (3.0.7)\n",
            "Requirement already satisfied: pyasn1<0.5.0,>=0.4.6 in /usr/local/lib/python3.7/dist-packages (from pyasn1-modules>=0.2.1->google-auth>=1.4.1->earthengine-api) (0.4.8)\n",
            "Requirement already satisfied: idna<3,>=2.5 in /usr/local/lib/python3.7/dist-packages (from requests<3.0.0dev,>=2.18.0->google-api-core<3dev,>=1.21.0->google-api-python-client<2,>=1.12.1->earthengine-api) (2.10)\n",
            "Requirement already satisfied: certifi>=2017.4.17 in /usr/local/lib/python3.7/dist-packages (from requests<3.0.0dev,>=2.18.0->google-api-core<3dev,>=1.21.0->google-api-python-client<2,>=1.12.1->earthengine-api) (2021.10.8)\n",
            "Requirement already satisfied: chardet<4,>=3.0.2 in /usr/local/lib/python3.7/dist-packages (from requests<3.0.0dev,>=2.18.0->google-api-core<3dev,>=1.21.0->google-api-python-client<2,>=1.12.1->earthengine-api) (3.0.4)\n",
            "Requirement already satisfied: urllib3!=1.25.0,!=1.25.1,<1.26,>=1.21.1 in /usr/local/lib/python3.7/dist-packages (from requests<3.0.0dev,>=2.18.0->google-api-core<3dev,>=1.21.0->google-api-python-client<2,>=1.12.1->earthengine-api) (1.24.3)\n",
            "Requirement already satisfied: google-cloud-core<2.0dev,>=1.0.0 in /usr/local/lib/python3.7/dist-packages (from google-cloud-storage->earthengine-api) (1.0.3)\n",
            "Requirement already satisfied: google-resumable-media<0.5.0dev,>=0.3.1 in /usr/local/lib/python3.7/dist-packages (from google-cloud-storage->earthengine-api) (0.4.1)\n"
          ]
        }
      ],
      "source": [
        "!pip install earthengine-api #earth-engine Python API"
      ]
    },
    {
      "cell_type": "code",
      "execution_count": null,
      "metadata": {
        "colab": {
          "base_uri": "https://localhost:8080/"
        },
        "id": "0AkwWIaE-wEa",
        "outputId": "f55002dc-b19a-46df-d54e-824f0f884d21"
      },
      "outputs": [
        {
          "name": "stdout",
          "output_type": "stream",
          "text": [
            "Collecting geopandas\n",
            "  Downloading geopandas-0.10.2-py2.py3-none-any.whl (1.0 MB)\n",
            "\u001b[K     |████████████████████████████████| 1.0 MB 6.9 MB/s \n",
            "\u001b[?25hCollecting fiona>=1.8\n",
            "  Downloading Fiona-1.8.21-cp37-cp37m-manylinux2014_x86_64.whl (16.7 MB)\n",
            "\u001b[K     |████████████████████████████████| 16.7 MB 328 kB/s \n",
            "\u001b[?25hRequirement already satisfied: shapely>=1.6 in /usr/local/lib/python3.7/dist-packages (from geopandas) (1.8.1.post1)\n",
            "Requirement already satisfied: pandas>=0.25.0 in /usr/local/lib/python3.7/dist-packages (from geopandas) (1.3.5)\n",
            "Collecting pyproj>=2.2.0\n",
            "  Downloading pyproj-3.2.1-cp37-cp37m-manylinux2010_x86_64.whl (6.3 MB)\n",
            "\u001b[K     |████████████████████████████████| 6.3 MB 45.5 MB/s \n",
            "\u001b[?25hRequirement already satisfied: attrs>=17 in /usr/local/lib/python3.7/dist-packages (from fiona>=1.8->geopandas) (21.4.0)\n",
            "Requirement already satisfied: click>=4.0 in /usr/local/lib/python3.7/dist-packages (from fiona>=1.8->geopandas) (7.1.2)\n",
            "Collecting cligj>=0.5\n",
            "  Downloading cligj-0.7.2-py3-none-any.whl (7.1 kB)\n",
            "Collecting munch\n",
            "  Downloading munch-2.5.0-py2.py3-none-any.whl (10 kB)\n",
            "Requirement already satisfied: setuptools in /usr/local/lib/python3.7/dist-packages (from fiona>=1.8->geopandas) (57.4.0)\n",
            "Requirement already satisfied: certifi in /usr/local/lib/python3.7/dist-packages (from fiona>=1.8->geopandas) (2021.10.8)\n",
            "Collecting click-plugins>=1.0\n",
            "  Downloading click_plugins-1.1.1-py2.py3-none-any.whl (7.5 kB)\n",
            "Requirement already satisfied: six>=1.7 in /usr/local/lib/python3.7/dist-packages (from fiona>=1.8->geopandas) (1.15.0)\n",
            "Requirement already satisfied: python-dateutil>=2.7.3 in /usr/local/lib/python3.7/dist-packages (from pandas>=0.25.0->geopandas) (2.8.2)\n",
            "Requirement already satisfied: numpy>=1.17.3 in /usr/local/lib/python3.7/dist-packages (from pandas>=0.25.0->geopandas) (1.21.5)\n",
            "Requirement already satisfied: pytz>=2017.3 in /usr/local/lib/python3.7/dist-packages (from pandas>=0.25.0->geopandas) (2018.9)\n",
            "Installing collected packages: munch, cligj, click-plugins, pyproj, fiona, geopandas\n",
            "Successfully installed click-plugins-1.1.1 cligj-0.7.2 fiona-1.8.21 geopandas-0.10.2 munch-2.5.0 pyproj-3.2.1\n"
          ]
        }
      ],
      "source": [
        "!pip install geopandas"
      ]
    },
    {
      "cell_type": "code",
      "execution_count": null,
      "metadata": {
        "colab": {
          "base_uri": "https://localhost:8080/"
        },
        "id": "ydYoXVJ_ZME7",
        "outputId": "1738b4c5-3c77-4cb3-db94-caa9bf1eeb5d"
      },
      "outputs": [
        {
          "name": "stdout",
          "output_type": "stream",
          "text": [
            "To authorize access needed by Earth Engine, open the following URL in a web browser and follow the instructions. If the web browser does not start automatically, please manually browse the URL below.\n",
            "\n",
            "    https://accounts.google.com/o/oauth2/auth?client_id=517222506229-vsmmajv00ul0bs7p89v5m89qs8eb9359.apps.googleusercontent.com&scope=https%3A%2F%2Fwww.googleapis.com%2Fauth%2Fearthengine+https%3A%2F%2Fwww.googleapis.com%2Fauth%2Fdevstorage.full_control&redirect_uri=urn%3Aietf%3Awg%3Aoauth%3A2.0%3Aoob&response_type=code&code_challenge=bVg3IFNM6sW3VYwfX45qEhymu3ear0pEo7zspajBmmk&code_challenge_method=S256\n",
            "\n",
            "The authorization workflow will generate a code, which you should paste in the box below. \n",
            "Enter verification code: 4/1AX4XfWiqSTFHG3wGhr6nAIOYCLJJF2NJSAGI76vNP_E1ZRuZ9aeRTwgtQdM\n",
            "\n",
            "Successfully saved authorization token.\n"
          ]
        }
      ],
      "source": [
        "!earthengine authenticate "
      ]
    },
    {
      "cell_type": "code",
      "execution_count": null,
      "metadata": {
        "colab": {
          "base_uri": "https://localhost:8080/"
        },
        "id": "qLeoxAUC1hNS",
        "outputId": "5822c88a-2e1e-4775-fae7-7f64be2985f3"
      },
      "outputs": [
        {
          "name": "stdout",
          "output_type": "stream",
          "text": [
            "Collecting geetools\n",
            "  Downloading geetools-0.6.14.tar.gz (74 kB)\n",
            "\u001b[K     |████████████████████████████████| 74 kB 2.8 MB/s \n",
            "\u001b[?25hRequirement already satisfied: requests in /usr/local/lib/python3.7/dist-packages (from geetools) (2.23.0)\n",
            "Collecting pyshp\n",
            "  Downloading pyshp-2.2.0-py3-none-any.whl (44 kB)\n",
            "\u001b[K     |████████████████████████████████| 44 kB 3.7 MB/s \n",
            "\u001b[?25hRequirement already satisfied: pandas in /usr/local/lib/python3.7/dist-packages (from geetools) (1.3.5)\n",
            "Requirement already satisfied: numpy>=1.17.3 in /usr/local/lib/python3.7/dist-packages (from pandas->geetools) (1.21.5)\n",
            "Requirement already satisfied: python-dateutil>=2.7.3 in /usr/local/lib/python3.7/dist-packages (from pandas->geetools) (2.8.2)\n",
            "Requirement already satisfied: pytz>=2017.3 in /usr/local/lib/python3.7/dist-packages (from pandas->geetools) (2018.9)\n",
            "Requirement already satisfied: six>=1.5 in /usr/local/lib/python3.7/dist-packages (from python-dateutil>=2.7.3->pandas->geetools) (1.15.0)\n",
            "Requirement already satisfied: idna<3,>=2.5 in /usr/local/lib/python3.7/dist-packages (from requests->geetools) (2.10)\n",
            "Requirement already satisfied: urllib3!=1.25.0,!=1.25.1,<1.26,>=1.21.1 in /usr/local/lib/python3.7/dist-packages (from requests->geetools) (1.24.3)\n",
            "Requirement already satisfied: chardet<4,>=3.0.2 in /usr/local/lib/python3.7/dist-packages (from requests->geetools) (3.0.4)\n",
            "Requirement already satisfied: certifi>=2017.4.17 in /usr/local/lib/python3.7/dist-packages (from requests->geetools) (2021.10.8)\n",
            "Building wheels for collected packages: geetools\n",
            "  Building wheel for geetools (setup.py) ... \u001b[?25l\u001b[?25hdone\n",
            "  Created wheel for geetools: filename=geetools-0.6.14-py3-none-any.whl size=92107 sha256=2a49e39658fb0c26995d7974a7fe339bf754f4a4ecee2c8e30438cf7f1c0e690\n",
            "  Stored in directory: /root/.cache/pip/wheels/5c/55/29/0a09dcf6b39bba8c890e40171cac3e3607a5c4b354b7e9447c\n",
            "Successfully built geetools\n",
            "Installing collected packages: pyshp, geetools\n",
            "Successfully installed geetools-0.6.14 pyshp-2.2.0\n"
          ]
        }
      ],
      "source": [
        "!pip install geetools"
      ]
    },
    {
      "cell_type": "code",
      "execution_count": null,
      "metadata": {
        "id": "Cyab1ROSZSVQ"
      },
      "outputs": [],
      "source": [
        "from google.colab import drive\n",
        "drive.mount('/content/drive')"
      ]
    },
    {
      "cell_type": "code",
      "execution_count": null,
      "metadata": {
        "id": "s6ORdIVRZeua"
      },
      "outputs": [],
      "source": [
        "from google.colab import auth\n",
        "auth.authenticate_user()"
      ]
    },
    {
      "cell_type": "code",
      "execution_count": null,
      "metadata": {
        "id": "TqsjiiPOOGuC"
      },
      "outputs": [],
      "source": [
        "import ee \n",
        "import folium\n",
        "import geetools\n",
        "import pandas as pd\n",
        "from geopandas import GeoSeries\n",
        "from shapely.geometry import Polygon"
      ]
    },
    {
      "cell_type": "code",
      "execution_count": null,
      "metadata": {
        "id": "_f9md2R1_HtY"
      },
      "outputs": [],
      "source": [
        "def coord(text):\n",
        "    x = text.split(\" \")[1][1:]\n",
        "    y = text.split(\" \")[2][:len(text.split(\" \")[2])-1] \n",
        "    x = float(x)\n",
        "    y = float(y)\n",
        "    side = 0.1\n",
        "    square = [x-side/2, y+side/2, x+side/2, y-side/2]\n",
        "    return square"
      ]
    },
    {
      "cell_type": "code",
      "execution_count": null,
      "metadata": {
        "colab": {
          "background_save": true
        },
        "id": "quJNi47BNhrP"
      },
      "outputs": [],
      "source": [
        "# Earth Engine Python API\n",
        "ee.Initialize()"
      ]
    },
    {
      "cell_type": "code",
      "execution_count": null,
      "metadata": {
        "id": "EiJT6SNn9aDD"
      },
      "outputs": [],
      "source": [
        "# Read the dataset \n",
        "data=pd.read_csv('/content/drive/MyDrive/Classroom/21DM008 Analysis of Spatial Data and Images 21-22 DSDM T2/project/data_final.csv')\n"
      ]
    },
    {
      "cell_type": "code",
      "execution_count": null,
      "metadata": {
        "id": "mJ_5c_qi-oh1"
      },
      "outputs": [],
      "source": [
        "square_point=coord(data['geometry'][0])"
      ]
    },
    {
      "cell_type": "code",
      "execution_count": null,
      "metadata": {
        "id": "EAceVCzffvyg"
      },
      "outputs": [],
      "source": [
        "#load image\n",
        "geometry = ee.Geometry.Rectangle(square_point)\n",
        "img_Collection = ee.ImageCollection('COPERNICUS/S1_GRD').filter(ee.Filter.listContains('transmitterReceiverPolarisation', 'VV'))\n",
        "img_Collection= img_Collection.filter(ee.Filter.eq('instrumentMode', 'IW')).select('VV')"
      ]
    },
    {
      "cell_type": "code",
      "execution_count": null,
      "metadata": {
        "id": "pwGXEgakOv-u"
      },
      "outputs": [],
      "source": [
        "desc=img_Collection.filter(ee.Filter.eq('orbitProperties_pass', 'DESCENDING'))\n",
        "asc=img_Collection.filter(ee.Filter.eq('orbitProperties_pass', 'ASCENDING'))\n",
        "\n"
      ]
    },
    {
      "cell_type": "code",
      "execution_count": null,
      "metadata": {
        "id": "uPO2fslSinsR"
      },
      "outputs": [],
      "source": [
        "spring = ee.Filter.date('2014-10-01', '2014-11-01');\n",
        "lateSpring = ee.Filter.date('2014-11-01', '2014-12-01');\n",
        "summer = ee.Filter.date('2014-12-01', '2015-01-01');"
      ]
    },
    {
      "cell_type": "code",
      "execution_count": null,
      "metadata": {
        "id": "xwMPIgS_kgqS"
      },
      "outputs": [],
      "source": [
        "descChange = ee.Image.cat(\n",
        "        desc.filter(spring).mean(),\n",
        "        desc.filter(lateSpring).mean(),\n",
        "        desc.filter(summer).mean())"
      ]
    },
    {
      "cell_type": "code",
      "execution_count": null,
      "metadata": {
        "colab": {
          "background_save": true
        },
        "id": "JfIPOB9ekmcC"
      },
      "outputs": [],
      "source": [
        "ascChange = ee.Image.cat(\n",
        "        asc.filter(spring).mean(),\n",
        "        asc.filter(lateSpring).mean(),\n",
        "        asc.filter(summer).mean())"
      ]
    },
    {
      "cell_type": "code",
      "execution_count": null,
      "metadata": {
        "colab": {
          "background_save": true
        },
        "id": "q5Enns1uimSF"
      },
      "outputs": [],
      "source": [
        "my_Image_desc=descChange.clip(geometry)\n",
        "my_Image_desc=ascChange.clip(geometry)"
      ]
    },
    {
      "cell_type": "code",
      "execution_count": null,
      "metadata": {
        "id": "VCuW0W5bPOeF"
      },
      "outputs": [],
      "source": [
        "task=geetools.batch.Export.image.toDrive(\n",
        "    image=my_Image_desc, \n",
        "    description='test_2',\n",
        "    folder='spatial_4',\n",
        "    scale=30\n",
        ")\n",
        "task.start()"
      ]
    },
    {
      "cell_type": "code",
      "execution_count": null,
      "metadata": {
        "colab": {
          "base_uri": "https://localhost:8080/"
        },
        "id": "5b3DxHqxPpXK",
        "outputId": "2a619899-be98-4c19-bceb-ef1da686aed0"
      },
      "outputs": [
        {
          "name": "stdout",
          "output_type": "stream",
          "text": [
            "Polling for task (id: T2234LB3Z2JVC6O6XSL7EDR4).\n",
            "Polling for task (id: T2234LB3Z2JVC6O6XSL7EDR4).\n",
            "Polling for task (id: T2234LB3Z2JVC6O6XSL7EDR4).\n",
            "Polling for task (id: T2234LB3Z2JVC6O6XSL7EDR4).\n",
            "Polling for task (id: T2234LB3Z2JVC6O6XSL7EDR4).\n",
            "Polling for task (id: T2234LB3Z2JVC6O6XSL7EDR4).\n",
            "Polling for task (id: T2234LB3Z2JVC6O6XSL7EDR4).\n",
            "Polling for task (id: T2234LB3Z2JVC6O6XSL7EDR4).\n",
            "Polling for task (id: T2234LB3Z2JVC6O6XSL7EDR4).\n",
            "Polling for task (id: T2234LB3Z2JVC6O6XSL7EDR4).\n"
          ]
        }
      ],
      "source": [
        "import time \n",
        "while task.active():\n",
        "  print('Polling for task (id: {}).'.format(task.id))\n",
        "  time.sleep(5)"
      ]
    },
    {
      "cell_type": "code",
      "execution_count": null,
      "metadata": {
        "colab": {
          "base_uri": "https://localhost:8080/"
        },
        "id": "MVLX1NS7mxoi",
        "outputId": "1a2496c7-1d2e-4030-d9bc-8950b57b2bfe"
      },
      "outputs": [
        {
          "name": "stdout",
          "output_type": "stream",
          "text": [
            "Requirement already satisfied: rasterio in /usr/local/lib/python3.7/dist-packages (1.2.10)\n",
            "Requirement already satisfied: attrs in /usr/local/lib/python3.7/dist-packages (from rasterio) (21.4.0)\n",
            "Requirement already satisfied: affine in /usr/local/lib/python3.7/dist-packages (from rasterio) (2.3.0)\n",
            "Requirement already satisfied: cligj>=0.5 in /usr/local/lib/python3.7/dist-packages (from rasterio) (0.7.2)\n",
            "Requirement already satisfied: click>=4.0 in /usr/local/lib/python3.7/dist-packages (from rasterio) (7.1.2)\n",
            "Requirement already satisfied: snuggs>=1.4.1 in /usr/local/lib/python3.7/dist-packages (from rasterio) (1.4.7)\n",
            "Requirement already satisfied: setuptools in /usr/local/lib/python3.7/dist-packages (from rasterio) (57.4.0)\n",
            "Requirement already satisfied: certifi in /usr/local/lib/python3.7/dist-packages (from rasterio) (2021.10.8)\n",
            "Requirement already satisfied: click-plugins in /usr/local/lib/python3.7/dist-packages (from rasterio) (1.1.1)\n",
            "Requirement already satisfied: numpy in /usr/local/lib/python3.7/dist-packages (from rasterio) (1.21.5)\n",
            "Requirement already satisfied: pyparsing>=2.1.6 in /usr/local/lib/python3.7/dist-packages (from snuggs>=1.4.1->rasterio) (3.0.7)\n"
          ]
        }
      ],
      "source": [
        "!pip install rasterio"
      ]
    },
    {
      "cell_type": "code",
      "execution_count": null,
      "metadata": {
        "id": "HgwgO-d4mufq"
      },
      "outputs": [],
      "source": [
        "import gdal\n",
        "import numpy as np\n",
        "import matplotlib.pyplot as plt\n",
        "import rasterio"
      ]
    },
    {
      "cell_type": "code",
      "execution_count": null,
      "metadata": {
        "id": "npbbB__amtgP"
      },
      "outputs": [],
      "source": [
        "# import the TIFF \n",
        "tiff = rasterio.open('/content/drive/MyDrive/spatial_final_r/image_70.tif')"
      ]
    },
    {
      "cell_type": "code",
      "execution_count": null,
      "metadata": {
        "colab": {
          "base_uri": "https://localhost:8080/",
          "height": 286
        },
        "id": "Tyl7RDLypMiv",
        "outputId": "7d9a14f7-b61a-4f6b-f3f3-c56daf3c78a1"
      },
      "outputs": [
        {
          "data": {
            "text/plain": [
              "<matplotlib.image.AxesImage at 0x7f8f839e1a50>"
            ]
          },
          "execution_count": 46,
          "metadata": {},
          "output_type": "execute_result"
        },
        {
          "data": {
            "image/png": "[encoded data removed]",
            "text/plain": [
              "<Figure size 432x288 with 1 Axes>"
            ]
          },
          "metadata": {},
          "output_type": "display_data"
        }
      ],
      "source": [
        "plt.imshow(tiff.read(1))"
      ]
    },
    {
      "cell_type": "code",
      "execution_count": null,
      "metadata": {
        "id": "1LZAqWktoEL-"
      },
      "outputs": [],
      "source": [
        "### Recive a collection of images and clip it to the square, download the square to google drive \n",
        "def image_download(collection,square,index,folder_p):\n",
        "  geometry = ee.Geometry.Rectangle(square)\n",
        "  my_Image_desc=collection.clip(geometry)\n",
        "  task=geetools.batch.Export.image.toDrive(\n",
        "    image=my_Image_desc, \n",
        "    description='image_'+str(index),\n",
        "    folder=folder_p,\n",
        "    scale=30)\n",
        "  task.start()\n",
        "  while task.active():\n",
        "    pass\n",
        "  print('image_'+str(index)+' saved.')\n",
        "\n",
        "def download_batch(start_index,end_index,data,folder): \n",
        "  for i in range (start_index,end_index+1):\n",
        "    square_point=coord(data['geometry'][i])\n",
        "    img_Collection = ee.ImageCollection('COPERNICUS/S1_GRD').filter(ee.Filter.listContains('transmitterReceiverPolarisation', 'VV'))\n",
        "    img_Collection= img_Collection.filter(ee.Filter.eq('instrumentMode', 'IW')).select('VV')\n",
        "    desc=img_Collection.filter(ee.Filter.eq('orbitProperties_pass', 'DESCENDING'))\n",
        "    spring = ee.Filter.date('2014-10-01', '2014-11-01');\n",
        "    lateSpring = ee.Filter.date('2014-11-01', '2014-12-01');\n",
        "    summer = ee.Filter.date('2014-12-01', '2015-01-01');\n",
        "    descChange = ee.Image.cat(\n",
        "    desc.filter(spring).mean(),\n",
        "    desc.filter(lateSpring).mean(),\n",
        "    desc.filter(summer).mean())\n",
        "    image_download(descChange,square_point,i,folder)\n",
        "  "
      ]
    },
    {
      "cell_type": "code",
      "execution_count": null,
      "metadata": {
        "colab": {
          "base_uri": "https://localhost:8080/"
        },
        "id": "DYoqPpo0BrjN",
        "outputId": "fb2b4ce1-01a4-440f-bc59-76b0c21db139"
      },
      "outputs": [
        {
          "name": "stdout",
          "output_type": "stream",
          "text": [
            "image_147 saved.\n",
            "image_148 saved.\n",
            "image_149 saved.\n",
            "image_150 saved.\n",
            "image_151 saved.\n",
            "image_152 saved.\n",
            "image_153 saved.\n",
            "image_154 saved.\n",
            "image_155 saved.\n",
            "image_156 saved.\n",
            "image_157 saved.\n",
            "image_158 saved.\n",
            "image_159 saved.\n",
            "image_160 saved.\n",
            "image_161 saved.\n",
            "image_162 saved.\n",
            "image_163 saved.\n",
            "image_164 saved.\n",
            "image_165 saved.\n",
            "image_166 saved.\n",
            "image_167 saved.\n",
            "image_168 saved.\n",
            "image_169 saved.\n",
            "image_170 saved.\n",
            "image_171 saved.\n",
            "image_172 saved.\n",
            "image_173 saved.\n",
            "image_174 saved.\n",
            "image_175 saved.\n",
            "image_176 saved.\n",
            "image_177 saved.\n",
            "image_178 saved.\n",
            "image_179 saved.\n",
            "image_180 saved.\n",
            "image_181 saved.\n",
            "image_182 saved.\n",
            "image_183 saved.\n",
            "image_184 saved.\n",
            "image_185 saved.\n",
            "image_186 saved.\n",
            "image_187 saved.\n",
            "image_188 saved.\n",
            "image_189 saved.\n",
            "image_190 saved.\n",
            "image_191 saved.\n",
            "image_192 saved.\n",
            "image_193 saved.\n",
            "image_194 saved.\n",
            "image_195 saved.\n",
            "image_196 saved.\n",
            "image_197 saved.\n",
            "image_198 saved.\n",
            "image_199 saved.\n",
            "image_200 saved.\n",
            "image_201 saved.\n",
            "image_202 saved.\n",
            "image_203 saved.\n",
            "image_204 saved.\n",
            "image_205 saved.\n",
            "image_206 saved.\n",
            "image_207 saved.\n",
            "image_208 saved.\n",
            "image_209 saved.\n",
            "image_210 saved.\n",
            "image_211 saved.\n",
            "image_212 saved.\n",
            "image_213 saved.\n",
            "image_214 saved.\n",
            "image_215 saved.\n",
            "image_216 saved.\n",
            "image_217 saved.\n",
            "image_218 saved.\n",
            "image_219 saved.\n",
            "image_220 saved.\n",
            "image_221 saved.\n",
            "image_222 saved.\n",
            "image_223 saved.\n",
            "image_224 saved.\n",
            "image_225 saved.\n",
            "image_226 saved.\n",
            "image_227 saved.\n",
            "image_228 saved.\n",
            "image_229 saved.\n",
            "image_230 saved.\n",
            "image_231 saved.\n",
            "image_232 saved.\n",
            "image_233 saved.\n",
            "image_234 saved.\n",
            "image_235 saved.\n",
            "image_236 saved.\n",
            "image_237 saved.\n",
            "image_238 saved.\n",
            "image_239 saved.\n",
            "image_240 saved.\n",
            "image_241 saved.\n",
            "image_242 saved.\n",
            "image_243 saved.\n",
            "image_244 saved.\n",
            "image_245 saved.\n",
            "image_246 saved.\n",
            "image_247 saved.\n",
            "image_248 saved.\n",
            "image_249 saved.\n",
            "image_250 saved.\n",
            "image_251 saved.\n",
            "image_252 saved.\n",
            "image_253 saved.\n",
            "image_254 saved.\n",
            "image_255 saved.\n",
            "image_256 saved.\n",
            "image_257 saved.\n",
            "image_258 saved.\n",
            "image_259 saved.\n",
            "image_260 saved.\n",
            "image_261 saved.\n",
            "image_262 saved.\n",
            "image_263 saved.\n",
            "image_264 saved.\n",
            "image_265 saved.\n",
            "image_266 saved.\n",
            "image_267 saved.\n",
            "image_268 saved.\n",
            "image_269 saved.\n",
            "image_270 saved.\n",
            "image_271 saved.\n",
            "image_272 saved.\n",
            "image_273 saved.\n",
            "image_274 saved.\n",
            "image_275 saved.\n",
            "image_276 saved.\n",
            "image_277 saved.\n",
            "image_278 saved.\n",
            "image_279 saved.\n",
            "image_280 saved.\n",
            "image_281 saved.\n",
            "image_282 saved.\n",
            "image_283 saved.\n",
            "image_284 saved.\n",
            "image_285 saved.\n",
            "image_286 saved.\n",
            "image_287 saved.\n",
            "image_288 saved.\n",
            "image_289 saved.\n",
            "image_290 saved.\n",
            "image_291 saved.\n",
            "image_292 saved.\n",
            "image_293 saved.\n",
            "image_294 saved.\n",
            "image_295 saved.\n",
            "image_296 saved.\n",
            "image_297 saved.\n",
            "image_298 saved.\n",
            "image_299 saved.\n",
            "image_300 saved.\n",
            "image_301 saved.\n",
            "image_302 saved.\n",
            "image_303 saved.\n",
            "image_304 saved.\n",
            "image_305 saved.\n",
            "image_306 saved.\n",
            "image_307 saved.\n",
            "image_308 saved.\n",
            "image_309 saved.\n",
            "image_310 saved.\n",
            "image_311 saved.\n",
            "image_312 saved.\n",
            "image_313 saved.\n",
            "image_314 saved.\n",
            "image_315 saved.\n",
            "image_316 saved.\n",
            "image_317 saved.\n",
            "image_318 saved.\n",
            "image_319 saved.\n",
            "image_320 saved.\n",
            "image_321 saved.\n",
            "image_322 saved.\n",
            "image_323 saved.\n",
            "image_324 saved.\n",
            "image_325 saved.\n",
            "image_326 saved.\n",
            "image_327 saved.\n",
            "image_328 saved.\n",
            "image_329 saved.\n",
            "image_330 saved.\n",
            "image_331 saved.\n",
            "image_332 saved.\n",
            "image_333 saved.\n",
            "image_334 saved.\n",
            "image_335 saved.\n",
            "image_336 saved.\n",
            "image_337 saved.\n",
            "image_338 saved.\n",
            "image_339 saved.\n",
            "image_340 saved.\n",
            "image_341 saved.\n",
            "image_342 saved.\n",
            "image_343 saved.\n",
            "image_344 saved.\n",
            "image_345 saved.\n",
            "image_346 saved.\n",
            "image_347 saved.\n",
            "image_348 saved.\n",
            "image_349 saved.\n",
            "image_350 saved.\n",
            "image_351 saved.\n",
            "image_352 saved.\n",
            "image_353 saved.\n",
            "image_354 saved.\n",
            "image_355 saved.\n",
            "image_356 saved.\n",
            "image_357 saved.\n",
            "image_358 saved.\n",
            "image_359 saved.\n",
            "image_360 saved.\n",
            "image_361 saved.\n",
            "image_362 saved.\n",
            "image_363 saved.\n",
            "image_364 saved.\n",
            "image_365 saved.\n",
            "image_366 saved.\n",
            "image_367 saved.\n",
            "image_368 saved.\n",
            "image_369 saved.\n",
            "image_370 saved.\n",
            "image_371 saved.\n",
            "image_372 saved.\n",
            "image_373 saved.\n",
            "image_374 saved.\n",
            "image_375 saved.\n",
            "image_376 saved.\n",
            "image_377 saved.\n",
            "image_378 saved.\n",
            "image_379 saved.\n",
            "image_380 saved.\n",
            "image_381 saved.\n",
            "image_382 saved.\n",
            "image_383 saved.\n",
            "image_384 saved.\n",
            "image_385 saved.\n",
            "image_386 saved.\n",
            "image_387 saved.\n",
            "image_388 saved.\n",
            "image_389 saved.\n",
            "image_390 saved.\n",
            "image_391 saved.\n",
            "image_392 saved.\n",
            "image_393 saved.\n",
            "image_394 saved.\n",
            "image_395 saved.\n",
            "image_396 saved.\n",
            "image_397 saved.\n",
            "image_398 saved.\n",
            "image_399 saved.\n",
            "image_400 saved.\n",
            "image_401 saved.\n",
            "image_402 saved.\n",
            "image_403 saved.\n",
            "image_404 saved.\n",
            "image_405 saved.\n",
            "image_406 saved.\n",
            "image_407 saved.\n",
            "image_408 saved.\n",
            "image_409 saved.\n",
            "image_410 saved.\n",
            "image_411 saved.\n",
            "image_412 saved.\n",
            "image_413 saved.\n",
            "image_414 saved.\n",
            "image_415 saved.\n",
            "image_416 saved.\n",
            "image_417 saved.\n",
            "image_418 saved.\n",
            "image_419 saved.\n",
            "image_420 saved.\n",
            "image_421 saved.\n",
            "image_422 saved.\n",
            "image_423 saved.\n",
            "image_424 saved.\n",
            "image_425 saved.\n",
            "image_426 saved.\n"
          ]
        }
      ],
      "source": [
        "### You have to specify 3 parameters \n",
        "# the index of the fisrt image you want to download \n",
        "# the index of the second image you want to download \n",
        "# the dataframe that contains the coca points\n",
        "# the name of the folder you want to save the images, please dont introduce any /, the folder have to be in the root of the drive. \n",
        "download_batch(147,667,data,'spatial_final_r')"
      ]
    },
    {
      "cell_type": "code",
      "execution_count": null,
      "metadata": {
        "id": "EqnSjxgmGkEh"
      },
      "outputs": [],
      "source": [
        ""
      ]
    }
  ],
  "metadata": {
    "colab": {
      "collapsed_sections": [],
      "name": "image_scrapping.ipynb",
      "provenance": []
    },
    "kernelspec": {
      "display_name": "Python 3",
      "name": "python3"
    },
    "language_info": {
      "name": "python"
    }
  },
  "nbformat": 4,
  "nbformat_minor": 0
}