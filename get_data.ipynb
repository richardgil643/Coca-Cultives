{
 "cells": [
  {
   "cell_type": "code",
   "execution_count": 74,
   "metadata": {},
   "outputs": [],
   "source": [
    "import pandas as pd\n",
    "import geopandas as gpd\n",
    "import matplotlib.pyplot as plt \n",
    "import numpy as np \n",
    "from geopandas import GeoSeries\n",
    "from shapely.geometry import Polygon"
   ]
  },
  {
   "cell_type": "code",
   "execution_count": 2,
   "metadata": {},
   "outputs": [],
   "source": [
    "from sentinelsat import SentinelAPI\n",
    "\n",
    "user = 'richardgil643' \n",
    "password = 'Polimeros1*' \n",
    "api = SentinelAPI(user, password, 'https://scihub.copernicus.eu/dhus')"
   ]
  },
  {
   "cell_type": "code",
   "execution_count": 3,
   "metadata": {},
   "outputs": [],
   "source": [
    "### read the colombian data\n",
    "# read shape file\n",
    "colombia = gpd.GeoDataFrame.from_file(u\"/Users/richardgil/Documents/BGSE/second_term/spatial_data/homework_1/gadm36_COL_shp/gadm36_COL_1.shp\")"
   ]
  },
  {
   "cell_type": "code",
   "execution_count": 4,
   "metadata": {},
   "outputs": [],
   "source": [
    "### read the Bolivian data\n",
    "# read shape file\n",
    "bolivia = gpd.GeoDataFrame.from_file(u\"/Users/richardgil/Documents/BGSE/second_term/spatial_data/final_project/Data/countries/gadm40_BOL_shp/gadm40_BOL_1.shp\")"
   ]
  },
  {
   "cell_type": "code",
   "execution_count": 5,
   "metadata": {},
   "outputs": [],
   "source": [
    "### read the Peruvian data\n",
    "# read shape file\n",
    "peru = gpd.GeoDataFrame.from_file(u\"/Users/richardgil/Documents/BGSE/second_term/spatial_data/final_project/Data/countries/gadm40_PER_shp/gadm40_PER_1.shp\")"
   ]
  },
  {
   "cell_type": "code",
   "execution_count": 6,
   "metadata": {},
   "outputs": [
    {
     "name": "stderr",
     "output_type": "stream",
     "text": [
      "/var/folders/_j/_cg09b3s237bgswq1831fkl00000gn/T/ipykernel_62912/615748003.py:1: FutureWarning: The frame.append method is deprecated and will be removed from pandas in a future version. Use pandas.concat instead.\n",
      "  region=colombia.append(peru).append(bolivia)\n",
      "/var/folders/_j/_cg09b3s237bgswq1831fkl00000gn/T/ipykernel_62912/615748003.py:1: FutureWarning: The frame.append method is deprecated and will be removed from pandas in a future version. Use pandas.concat instead.\n",
      "  region=colombia.append(peru).append(bolivia)\n"
     ]
    }
   ],
   "source": [
    "### Append all the contries in one database\n",
    "region=colombia.append(peru).append(bolivia)"
   ]
  },
  {
   "cell_type": "code",
   "execution_count": 7,
   "metadata": {},
   "outputs": [],
   "source": [
    "### read the coordinates files\n",
    "coca=pd.read_csv('/Users/richardgil/Documents/BGSE/second_term/spatial_data/final_project/Data/grid.csv')"
   ]
  },
  {
   "cell_type": "code",
   "execution_count": 8,
   "metadata": {},
   "outputs": [],
   "source": [
    "### Coca Points \n",
    "coca_def=coca[coca['coca']==1].reset_index(drop=True)"
   ]
  },
  {
   "cell_type": "code",
   "execution_count": 10,
   "metadata": {},
   "outputs": [],
   "source": [
    "### Convert caca points into a geodataframe\n",
    "coca_df = gpd.GeoDataFrame(\n",
    "    coca_def, geometry=gpd.points_from_xy(coca_def.X_DD, coca_def.Y_DD))"
   ]
  },
  {
   "cell_type": "code",
   "execution_count": 11,
   "metadata": {},
   "outputs": [
    {
     "data": {
      "text/html": [
       "<div>\n",
       "<style scoped>\n",
       "    .dataframe tbody tr th:only-of-type {\n",
       "        vertical-align: middle;\n",
       "    }\n",
       "\n",
       "    .dataframe tbody tr th {\n",
       "        vertical-align: top;\n",
       "    }\n",
       "\n",
       "    .dataframe thead th {\n",
       "        text-align: right;\n",
       "    }\n",
       "</style>\n",
       "<table border=\"1\" class=\"dataframe\">\n",
       "  <thead>\n",
       "    <tr style=\"text-align: right;\">\n",
       "      <th></th>\n",
       "      <th>POINTID</th>\n",
       "      <th>GRID_CODE</th>\n",
       "      <th>X_DD</th>\n",
       "      <th>Y_DD</th>\n",
       "      <th>NEAR_FID</th>\n",
       "      <th>NEAR_DIST</th>\n",
       "      <th>NEAR_X</th>\n",
       "      <th>NEAR_Y</th>\n",
       "      <th>coca</th>\n",
       "      <th>coca1992</th>\n",
       "    </tr>\n",
       "  </thead>\n",
       "  <tbody>\n",
       "    <tr>\n",
       "      <th>0</th>\n",
       "      <td>530</td>\n",
       "      <td>135</td>\n",
       "      <td>-67.5319</td>\n",
       "      <td>5.8615</td>\n",
       "      <td>11</td>\n",
       "      <td>645028.9144</td>\n",
       "      <td>-72.467728</td>\n",
       "      <td>2.782339</td>\n",
       "      <td>0</td>\n",
       "      <td>0</td>\n",
       "    </tr>\n",
       "    <tr>\n",
       "      <th>1</th>\n",
       "      <td>531</td>\n",
       "      <td>138</td>\n",
       "      <td>-67.4960</td>\n",
       "      <td>5.8615</td>\n",
       "      <td>11</td>\n",
       "      <td>648419.1479</td>\n",
       "      <td>-72.467728</td>\n",
       "      <td>2.782339</td>\n",
       "      <td>0</td>\n",
       "      <td>0</td>\n",
       "    </tr>\n",
       "    <tr>\n",
       "      <th>2</th>\n",
       "      <td>532</td>\n",
       "      <td>88</td>\n",
       "      <td>-67.4601</td>\n",
       "      <td>5.8615</td>\n",
       "      <td>11</td>\n",
       "      <td>651816.1440</td>\n",
       "      <td>-72.467728</td>\n",
       "      <td>2.782339</td>\n",
       "      <td>0</td>\n",
       "      <td>0</td>\n",
       "    </tr>\n",
       "    <tr>\n",
       "      <th>3</th>\n",
       "      <td>533</td>\n",
       "      <td>126</td>\n",
       "      <td>-67.4241</td>\n",
       "      <td>5.8615</td>\n",
       "      <td>11</td>\n",
       "      <td>655219.7973</td>\n",
       "      <td>-72.467728</td>\n",
       "      <td>2.782339</td>\n",
       "      <td>0</td>\n",
       "      <td>0</td>\n",
       "    </tr>\n",
       "    <tr>\n",
       "      <th>4</th>\n",
       "      <td>534</td>\n",
       "      <td>56</td>\n",
       "      <td>-67.3882</td>\n",
       "      <td>5.8615</td>\n",
       "      <td>11</td>\n",
       "      <td>658630.0048</td>\n",
       "      <td>-72.467728</td>\n",
       "      <td>2.782339</td>\n",
       "      <td>0</td>\n",
       "      <td>0</td>\n",
       "    </tr>\n",
       "  </tbody>\n",
       "</table>\n",
       "</div>"
      ],
      "text/plain": [
       "   POINTID  GRID_CODE     X_DD    Y_DD  NEAR_FID    NEAR_DIST     NEAR_X  \\\n",
       "0      530        135 -67.5319  5.8615        11  645028.9144 -72.467728   \n",
       "1      531        138 -67.4960  5.8615        11  648419.1479 -72.467728   \n",
       "2      532         88 -67.4601  5.8615        11  651816.1440 -72.467728   \n",
       "3      533        126 -67.4241  5.8615        11  655219.7973 -72.467728   \n",
       "4      534         56 -67.3882  5.8615        11  658630.0048 -72.467728   \n",
       "\n",
       "     NEAR_Y  coca  coca1992  \n",
       "0  2.782339     0         0  \n",
       "1  2.782339     0         0  \n",
       "2  2.782339     0         0  \n",
       "3  2.782339     0         0  \n",
       "4  2.782339     0         0  "
      ]
     },
     "execution_count": 11,
     "metadata": {},
     "output_type": "execute_result"
    }
   ],
   "source": [
    "coca.head()"
   ]
  },
  {
   "cell_type": "code",
   "execution_count": 12,
   "metadata": {},
   "outputs": [],
   "source": [
    "### To see the contra factual we are going to generate random points in the bounding box of the region\n",
    "np.random.seed(42)\n",
    "contra_factual=pd.DataFrame()\n",
    "contra_factual['random_longitude']=np.random.uniform(low=-81.4109425524,high=-57.4983711412,size=coca_def.shape[0])\n",
    "contra_factual['random_latitude']=np.random.uniform(low=-22.8729187965,high=12.4373031682,size=coca_def.shape[0])\n",
    "\n",
    "contra_factual=gpd.GeoDataFrame(\n",
    "    contra_factual, geometry=gpd.points_from_xy(contra_factual.random_longitude, contra_factual.random_latitude))"
   ]
  },
  {
   "cell_type": "code",
   "execution_count": 13,
   "metadata": {},
   "outputs": [
    {
     "name": "stderr",
     "output_type": "stream",
     "text": [
      "/Users/richardgil/Documents/BGSE/second_term/spatial_data/venv_spatial_3/lib/python3.9/site-packages/IPython/core/interactiveshell.py:3301: FutureWarning: The `op` parameter is deprecated and will be removed in a future release. Please use the `predicate` parameter instead.\n",
      "  if await self.run_code(code, result, async_=asy):\n",
      "/var/folders/_j/_cg09b3s237bgswq1831fkl00000gn/T/ipykernel_62912/1666114876.py:3: UserWarning: CRS mismatch between the CRS of left geometries and the CRS of right geometries.\n",
      "Use `to_crs()` to reproject one of the input geometries to match the CRS of the other.\n",
      "\n",
      "Left CRS: None\n",
      "Right CRS: EPSG:4326\n",
      "\n",
      "  region_random_points = gpd.sjoin(contra_factual,region,op='intersects')\n"
     ]
    }
   ],
   "source": [
    "### Since this is the bounding box there are some points that can be outside region \n",
    "### for this reason we geospatialy join with the shape file of the region to depurate this errors \n",
    "region_random_points = gpd.sjoin(contra_factual,region,op='intersects')"
   ]
  },
  {
   "cell_type": "code",
   "execution_count": 28,
   "metadata": {},
   "outputs": [
    {
     "data": {
      "text/html": [
       "<div>\n",
       "<style scoped>\n",
       "    .dataframe tbody tr th:only-of-type {\n",
       "        vertical-align: middle;\n",
       "    }\n",
       "\n",
       "    .dataframe tbody tr th {\n",
       "        vertical-align: top;\n",
       "    }\n",
       "\n",
       "    .dataframe thead th {\n",
       "        text-align: right;\n",
       "    }\n",
       "</style>\n",
       "<table border=\"1\" class=\"dataframe\">\n",
       "  <thead>\n",
       "    <tr style=\"text-align: right;\">\n",
       "      <th></th>\n",
       "      <th>random_longitude</th>\n",
       "      <th>random_latitude</th>\n",
       "      <th>geometry</th>\n",
       "    </tr>\n",
       "  </thead>\n",
       "  <tbody>\n",
       "    <tr>\n",
       "      <th>0</th>\n",
       "      <td>-72.454725</td>\n",
       "      <td>-14.102438</td>\n",
       "      <td>POINT (-72.45473 -14.10244)</td>\n",
       "    </tr>\n",
       "    <tr>\n",
       "      <th>1</th>\n",
       "      <td>-58.676919</td>\n",
       "      <td>2.037060</td>\n",
       "      <td>POINT (-58.67692 2.03706)</td>\n",
       "    </tr>\n",
       "    <tr>\n",
       "      <th>2</th>\n",
       "      <td>-63.907085</td>\n",
       "      <td>-7.774221</td>\n",
       "      <td>POINT (-63.90709 -7.77422)</td>\n",
       "    </tr>\n",
       "    <tr>\n",
       "      <th>3</th>\n",
       "      <td>-67.095479</td>\n",
       "      <td>-7.246538</td>\n",
       "      <td>POINT (-67.09548 -7.24654)</td>\n",
       "    </tr>\n",
       "    <tr>\n",
       "      <th>4</th>\n",
       "      <td>-77.680136</td>\n",
       "      <td>0.054797</td>\n",
       "      <td>POINT (-77.68014 0.05480)</td>\n",
       "    </tr>\n",
       "  </tbody>\n",
       "</table>\n",
       "</div>"
      ],
      "text/plain": [
       "   random_longitude  random_latitude                     geometry\n",
       "0        -72.454725       -14.102438  POINT (-72.45473 -14.10244)\n",
       "1        -58.676919         2.037060    POINT (-58.67692 2.03706)\n",
       "2        -63.907085        -7.774221   POINT (-63.90709 -7.77422)\n",
       "3        -67.095479        -7.246538   POINT (-67.09548 -7.24654)\n",
       "4        -77.680136         0.054797    POINT (-77.68014 0.05480)"
      ]
     },
     "execution_count": 28,
     "metadata": {},
     "output_type": "execute_result"
    }
   ],
   "source": [
    "contra_factual.head()"
   ]
  },
  {
   "cell_type": "code",
   "execution_count": 47,
   "metadata": {},
   "outputs": [],
   "source": [
    "### there are too many images to download so we are going to take a sample of 1000 for both \n",
    "np.random.seed(42)\n",
    "coca_def_1=coca_def.sample(1000).reset_index(drop=True)\n",
    "no_coca_def_1=region_random_points.sample(1000).reset_index(drop=True)\n",
    "\n",
    "coca_def_1 = gpd.GeoDataFrame(\n",
    "    coca_def_1, geometry=gpd.points_from_xy(coca_def_1.X_DD, coca_def_1.Y_DD))\n",
    "\n",
    "no_coca_def_1 = gpd.GeoDataFrame(\n",
    "    no_coca_def_1, geometry=gpd.points_from_xy(no_coca_def_1.random_longitude, no_coca_def_1.random_latitude))\n"
   ]
  },
  {
   "cell_type": "code",
   "execution_count": 33,
   "metadata": {},
   "outputs": [
    {
     "data": {
      "text/plain": [
       "<AxesSubplot:>"
      ]
     },
     "execution_count": 33,
     "metadata": {},
     "output_type": "execute_result"
    },
    {
     "data": {
      "image/png": "[encoded data removed]",
      "text/plain": [
       "<Figure size 1440x1440 with 1 Axes>"
      ]
     },
     "metadata": {},
     "output_type": "display_data"
    }
   ],
   "source": [
    "fig, ax = plt.subplots(facecolor='#FCF6F5FF')\n",
    "fig.set_size_inches(20, 20) \n",
    "region['geometry'].plot(ax=ax)\n",
    "\n",
    "coca_def_1['geometry'].plot(ax=ax,color='green')\n",
    "no_coca_def_1['geometry'].plot(ax=ax,color='yellow')\n",
    "\n",
    "\n"
   ]
  },
  {
   "cell_type": "code",
   "execution_count": 36,
   "metadata": {},
   "outputs": [
    {
     "data": {
      "text/plain": [
       "(1000, 11)"
      ]
     },
     "execution_count": 36,
     "metadata": {},
     "output_type": "execute_result"
    }
   ],
   "source": [
    "coca_def_1.shape"
   ]
  },
  {
   "cell_type": "code",
   "execution_count": 39,
   "metadata": {},
   "outputs": [],
   "source": [
    "coca_def_1=coca_def_1[['geometry','coca']]"
   ]
  },
  {
   "cell_type": "code",
   "execution_count": 40,
   "metadata": {},
   "outputs": [],
   "source": [
    "no_coca_def_1=no_coca_def_1[['geometry']]\n",
    "no_coca_def_1['coca']=0"
   ]
  },
  {
   "cell_type": "code",
   "execution_count": 41,
   "metadata": {},
   "outputs": [
    {
     "data": {
      "text/html": [
       "<div>\n",
       "<style scoped>\n",
       "    .dataframe tbody tr th:only-of-type {\n",
       "        vertical-align: middle;\n",
       "    }\n",
       "\n",
       "    .dataframe tbody tr th {\n",
       "        vertical-align: top;\n",
       "    }\n",
       "\n",
       "    .dataframe thead th {\n",
       "        text-align: right;\n",
       "    }\n",
       "</style>\n",
       "<table border=\"1\" class=\"dataframe\">\n",
       "  <thead>\n",
       "    <tr style=\"text-align: right;\">\n",
       "      <th></th>\n",
       "      <th>geometry</th>\n",
       "      <th>coca</th>\n",
       "    </tr>\n",
       "  </thead>\n",
       "  <tbody>\n",
       "    <tr>\n",
       "      <th>0</th>\n",
       "      <td>POINT (-70.39826 -16.45290)</td>\n",
       "      <td>0</td>\n",
       "    </tr>\n",
       "    <tr>\n",
       "      <th>1</th>\n",
       "      <td>POINT (-76.02304 -13.14259)</td>\n",
       "      <td>0</td>\n",
       "    </tr>\n",
       "    <tr>\n",
       "      <th>2</th>\n",
       "      <td>POINT (-73.85084 0.95771)</td>\n",
       "      <td>0</td>\n",
       "    </tr>\n",
       "    <tr>\n",
       "      <th>3</th>\n",
       "      <td>POINT (-65.51119 -12.58489)</td>\n",
       "      <td>0</td>\n",
       "    </tr>\n",
       "    <tr>\n",
       "      <th>4</th>\n",
       "      <td>POINT (-75.51402 -5.64505)</td>\n",
       "      <td>0</td>\n",
       "    </tr>\n",
       "  </tbody>\n",
       "</table>\n",
       "</div>"
      ],
      "text/plain": [
       "                      geometry  coca\n",
       "0  POINT (-70.39826 -16.45290)     0\n",
       "1  POINT (-76.02304 -13.14259)     0\n",
       "2    POINT (-73.85084 0.95771)     0\n",
       "3  POINT (-65.51119 -12.58489)     0\n",
       "4   POINT (-75.51402 -5.64505)     0"
      ]
     },
     "execution_count": 41,
     "metadata": {},
     "output_type": "execute_result"
    }
   ],
   "source": [
    "no_coca_def_1.head()"
   ]
  },
  {
   "cell_type": "code",
   "execution_count": 42,
   "metadata": {},
   "outputs": [
    {
     "name": "stderr",
     "output_type": "stream",
     "text": [
      "/var/folders/_j/_cg09b3s237bgswq1831fkl00000gn/T/ipykernel_62912/3779991811.py:1: FutureWarning: The frame.append method is deprecated and will be removed from pandas in a future version. Use pandas.concat instead.\n",
      "  final_data_points=coca_def_1.append(no_coca_def_1).reset_index(drop=True)\n"
     ]
    }
   ],
   "source": [
    "final_data_points=coca_def_1.append(no_coca_def_1).reset_index(drop=True)"
   ]
  },
  {
   "cell_type": "code",
   "execution_count": 46,
   "metadata": {},
   "outputs": [],
   "source": [
    "### Save the final datapoints\n",
    "final_data_points.to_csv('/Users/richardgil/Documents/BGSE/second_term/spatial_data/final_project/Data/data_final.csv')"
   ]
  },
  {
   "cell_type": "code",
   "execution_count": 62,
   "metadata": {},
   "outputs": [
    {
     "data": {
      "text/plain": [
       "geopandas.geodataframe.GeoDataFrame"
      ]
     },
     "execution_count": 62,
     "metadata": {},
     "output_type": "execute_result"
    }
   ],
   "source": [
    "type(final_data_points)"
   ]
  },
  {
   "cell_type": "code",
   "execution_count": 63,
   "metadata": {},
   "outputs": [
    {
     "name": "stderr",
     "output_type": "stream",
     "text": [
      "/Users/richardgil/Documents/BGSE/second_term/spatial_data/venv_spatial_3/lib/python3.9/site-packages/geopandas/io/file.py:362: FutureWarning: pandas.Int64Index is deprecated and will be removed from pandas in a future version. Use pandas.Index with the appropriate dtype instead.\n",
      "  pd.Int64Index,\n"
     ]
    }
   ],
   "source": [
    "final_data_points.to_file('/Users/richardgil/Documents/BGSE/second_term/spatial_data/final_project/Data/data_final.shp')"
   ]
  },
  {
   "cell_type": "code",
   "execution_count": 97,
   "metadata": {},
   "outputs": [],
   "source": [
    "def coord(text):\n",
    "    x = text.split(\" \")[1][1:]\n",
    "    y = text.split(\" \")[2][:len(text.split(\" \")[2])-1]\n",
    "    \n",
    "    x = float(x)\n",
    "    y = float(y)\n",
    "    \n",
    "    \n",
    "    \n",
    "    side = 0.1\n",
    "    \n",
    "    \n",
    "    square = Polygon([(x-side/2, y-side/2), (x+side/2, y-side/2), (x+side/2, y+side/2), (x-side/2, y+side/2)])\n",
    "\n",
    "    g = str(square)\n",
    "    \n",
    "    return g"
   ]
  },
  {
   "cell_type": "code",
   "execution_count": 94,
   "metadata": {},
   "outputs": [],
   "source": [
    "text=str(final_data_points['geometry'][0])\n",
    "x = text.split(\" \")[1][1:]\n",
    "y = text.split(\" \")[2][:len(text.split(\" \")[2])-1]\n",
    "\n",
    "x = float(x)\n",
    "y = float(y)\n",
    "\n",
    "side = 0.1\n",
    "    \n",
    "    \n",
    "square = Polygon([(x-side/2, y-side/2), (x+side/2, y-side/2), (x+side/2, y+side/2), (x-side/2, y+side/2)])\n",
    "\n",
    "g = str(square)"
   ]
  },
  {
   "cell_type": "code",
   "execution_count": 98,
   "metadata": {},
   "outputs": [],
   "source": [
    "### Create polygons around the coca point to download the image in the polydon with the cultive on the center\n",
    "final_data_points['geometry_2']=[coord(str(i)) for i in final_data_points['geometry']]"
   ]
  },
  {
   "cell_type": "code",
   "execution_count": 99,
   "metadata": {},
   "outputs": [
    {
     "data": {
      "text/html": [
       "<div>\n",
       "<style scoped>\n",
       "    .dataframe tbody tr th:only-of-type {\n",
       "        vertical-align: middle;\n",
       "    }\n",
       "\n",
       "    .dataframe tbody tr th {\n",
       "        vertical-align: top;\n",
       "    }\n",
       "\n",
       "    .dataframe thead th {\n",
       "        text-align: right;\n",
       "    }\n",
       "</style>\n",
       "<table border=\"1\" class=\"dataframe\">\n",
       "  <thead>\n",
       "    <tr style=\"text-align: right;\">\n",
       "      <th></th>\n",
       "      <th>geometry</th>\n",
       "      <th>coca</th>\n",
       "      <th>geometry_2</th>\n",
       "    </tr>\n",
       "  </thead>\n",
       "  <tbody>\n",
       "    <tr>\n",
       "      <th>0</th>\n",
       "      <td>POINT (-64.37020 -17.41990)</td>\n",
       "      <td>1</td>\n",
       "      <td>POLYGON ((-64.4202 -17.4699, -64.3202 -17.4699...</td>\n",
       "    </tr>\n",
       "    <tr>\n",
       "      <th>1</th>\n",
       "      <td>POINT (-71.73550 -3.87500)</td>\n",
       "      <td>1</td>\n",
       "      <td>POLYGON ((-71.7855 -3.925, -71.6855 -3.925, -7...</td>\n",
       "    </tr>\n",
       "    <tr>\n",
       "      <th>2</th>\n",
       "      <td>POINT (-73.96300 -12.49770)</td>\n",
       "      <td>1</td>\n",
       "      <td>POLYGON ((-74.01299999999999 -12.5477, -73.913...</td>\n",
       "    </tr>\n",
       "    <tr>\n",
       "      <th>3</th>\n",
       "      <td>POINT (-68.96900 -14.18640)</td>\n",
       "      <td>1</td>\n",
       "      <td>POLYGON ((-69.01899999999999 -14.2364000000000...</td>\n",
       "    </tr>\n",
       "    <tr>\n",
       "      <th>4</th>\n",
       "      <td>POINT (-64.62170 -17.09650)</td>\n",
       "      <td>1</td>\n",
       "      <td>POLYGON ((-64.6717 -17.1465, -64.5717 -17.1465...</td>\n",
       "    </tr>\n",
       "  </tbody>\n",
       "</table>\n",
       "</div>"
      ],
      "text/plain": [
       "                      geometry  coca  \\\n",
       "0  POINT (-64.37020 -17.41990)     1   \n",
       "1   POINT (-71.73550 -3.87500)     1   \n",
       "2  POINT (-73.96300 -12.49770)     1   \n",
       "3  POINT (-68.96900 -14.18640)     1   \n",
       "4  POINT (-64.62170 -17.09650)     1   \n",
       "\n",
       "                                          geometry_2  \n",
       "0  POLYGON ((-64.4202 -17.4699, -64.3202 -17.4699...  \n",
       "1  POLYGON ((-71.7855 -3.925, -71.6855 -3.925, -7...  \n",
       "2  POLYGON ((-74.01299999999999 -12.5477, -73.913...  \n",
       "3  POLYGON ((-69.01899999999999 -14.2364000000000...  \n",
       "4  POLYGON ((-64.6717 -17.1465, -64.5717 -17.1465...  "
      ]
     },
     "execution_count": 99,
     "metadata": {},
     "output_type": "execute_result"
    }
   ],
   "source": [
    "final_data_points.head()"
   ]
  },
  {
   "cell_type": "code",
   "execution_count": 101,
   "metadata": {},
   "outputs": [],
   "source": [
    "products = api.query(final_data_points['geometry'][0],\n",
    "                     date = ('20190601', '20190626'),\n",
    "                     platformname = 'Sentinel-1',\n",
    "                     #processinglevel = 'Level-2A',\n",
    "                     #cloudcoverpercentage = (0,10)\n",
    "                    )"
   ]
  },
  {
   "cell_type": "code",
   "execution_count": 102,
   "metadata": {},
   "outputs": [],
   "source": [
    "products_gdf = api.to_geodataframe(products)\n"
   ]
  },
  {
   "cell_type": "code",
   "execution_count": 103,
   "metadata": {},
   "outputs": [
    {
     "data": {
      "text/html": [
       "<div>\n",
       "<style scoped>\n",
       "    .dataframe tbody tr th:only-of-type {\n",
       "        vertical-align: middle;\n",
       "    }\n",
       "\n",
       "    .dataframe tbody tr th {\n",
       "        vertical-align: top;\n",
       "    }\n",
       "\n",
       "    .dataframe thead th {\n",
       "        text-align: right;\n",
       "    }\n",
       "</style>\n",
       "<table border=\"1\" class=\"dataframe\">\n",
       "  <thead>\n",
       "    <tr style=\"text-align: right;\">\n",
       "      <th></th>\n",
       "      <th>title</th>\n",
       "      <th>link</th>\n",
       "      <th>link_alternative</th>\n",
       "      <th>link_icon</th>\n",
       "      <th>summary</th>\n",
       "      <th>ondemand</th>\n",
       "      <th>beginposition</th>\n",
       "      <th>endposition</th>\n",
       "      <th>ingestiondate</th>\n",
       "      <th>missiondatatakeid</th>\n",
       "      <th>...</th>\n",
       "      <th>format</th>\n",
       "      <th>productclass</th>\n",
       "      <th>polarisationmode</th>\n",
       "      <th>acquisitiontype</th>\n",
       "      <th>status</th>\n",
       "      <th>size</th>\n",
       "      <th>identifier</th>\n",
       "      <th>uuid</th>\n",
       "      <th>productconsolidation</th>\n",
       "      <th>geometry</th>\n",
       "    </tr>\n",
       "  </thead>\n",
       "  <tbody>\n",
       "    <tr>\n",
       "      <th>b2d48736-85e2-4a65-8772-020b6a14841a</th>\n",
       "      <td>S1B_IW_SLC__1SDV_20190617T095041_20190617T0951...</td>\n",
       "      <td>https://scihub.copernicus.eu/dhus/odata/v1/Pro...</td>\n",
       "      <td>https://scihub.copernicus.eu/dhus/odata/v1/Pro...</td>\n",
       "      <td>https://scihub.copernicus.eu/dhus/odata/v1/Pro...</td>\n",
       "      <td>Date: 2019-06-17T09:50:41.482Z, Instrument: SA...</td>\n",
       "      <td>false</td>\n",
       "      <td>2019-06-17 09:50:41.482</td>\n",
       "      <td>2019-06-17 09:51:09.413</td>\n",
       "      <td>2019-06-17 14:55:12.755</td>\n",
       "      <td>129020</td>\n",
       "      <td>...</td>\n",
       "      <td>SAFE</td>\n",
       "      <td>S</td>\n",
       "      <td>VV VH</td>\n",
       "      <td>NOMINAL</td>\n",
       "      <td>ARCHIVED</td>\n",
       "      <td>8.46 GB</td>\n",
       "      <td>S1B_IW_SLC__1SDV_20190617T095041_20190617T0951...</td>\n",
       "      <td>b2d48736-85e2-4a65-8772-020b6a14841a</td>\n",
       "      <td>NaN</td>\n",
       "      <td>MULTIPOLYGON (((-63.87602 -18.20575, -63.47150...</td>\n",
       "    </tr>\n",
       "    <tr>\n",
       "      <th>95c12d6b-08b9-4736-aa45-48e6f53ada30</th>\n",
       "      <td>S1B_IW_GRDH_1SDV_20190617T095042_20190617T0951...</td>\n",
       "      <td>https://scihub.copernicus.eu/dhus/odata/v1/Pro...</td>\n",
       "      <td>https://scihub.copernicus.eu/dhus/odata/v1/Pro...</td>\n",
       "      <td>https://scihub.copernicus.eu/dhus/odata/v1/Pro...</td>\n",
       "      <td>Date: 2019-06-17T09:50:42.88Z, Instrument: SAR...</td>\n",
       "      <td>false</td>\n",
       "      <td>2019-06-17 09:50:42.880</td>\n",
       "      <td>2019-06-17 09:51:07.878</td>\n",
       "      <td>2019-06-17 14:25:26.891</td>\n",
       "      <td>129020</td>\n",
       "      <td>...</td>\n",
       "      <td>SAFE</td>\n",
       "      <td>S</td>\n",
       "      <td>VV VH</td>\n",
       "      <td>NOMINAL</td>\n",
       "      <td>ARCHIVED</td>\n",
       "      <td>1.73 GB</td>\n",
       "      <td>S1B_IW_GRDH_1SDV_20190617T095042_20190617T0951...</td>\n",
       "      <td>95c12d6b-08b9-4736-aa45-48e6f53ada30</td>\n",
       "      <td>NaN</td>\n",
       "      <td>MULTIPOLYGON (((-63.87883 -18.10732, -63.49107...</td>\n",
       "    </tr>\n",
       "    <tr>\n",
       "      <th>95bff302-9abf-416c-8199-b84a7068974d</th>\n",
       "      <td>S1B_IW_RAW__0SDV_20190617T095039_20190617T0951...</td>\n",
       "      <td>https://scihub.copernicus.eu/dhus/odata/v1/Pro...</td>\n",
       "      <td>https://scihub.copernicus.eu/dhus/odata/v1/Pro...</td>\n",
       "      <td>https://scihub.copernicus.eu/dhus/odata/v1/Pro...</td>\n",
       "      <td>Date: 2019-06-17T09:50:39.179Z, Instrument: SA...</td>\n",
       "      <td>false</td>\n",
       "      <td>2019-06-17 09:50:39.179</td>\n",
       "      <td>2019-06-17 09:51:11.579</td>\n",
       "      <td>2019-06-17 13:12:25.066</td>\n",
       "      <td>129020</td>\n",
       "      <td>...</td>\n",
       "      <td>SAFE</td>\n",
       "      <td>S</td>\n",
       "      <td>VH VV</td>\n",
       "      <td>NOMINAL</td>\n",
       "      <td>ARCHIVED</td>\n",
       "      <td>1.61 GB</td>\n",
       "      <td>S1B_IW_RAW__0SDV_20190617T095039_20190617T0951...</td>\n",
       "      <td>95bff302-9abf-416c-8199-b84a7068974d</td>\n",
       "      <td>SLICE</td>\n",
       "      <td>MULTIPOLYGON (((-63.91440 -18.54070, -63.43180...</td>\n",
       "    </tr>\n",
       "    <tr>\n",
       "      <th>b6962ccf-bd1b-4688-a83c-8e594b533c32</th>\n",
       "      <td>S1B_IW_SLC__1SDV_20190605T095040_20190605T0951...</td>\n",
       "      <td>https://scihub.copernicus.eu/dhus/odata/v1/Pro...</td>\n",
       "      <td>https://scihub.copernicus.eu/dhus/odata/v1/Pro...</td>\n",
       "      <td>https://scihub.copernicus.eu/dhus/odata/v1/Pro...</td>\n",
       "      <td>Date: 2019-06-05T09:50:40.729Z, Instrument: SA...</td>\n",
       "      <td>false</td>\n",
       "      <td>2019-06-05 09:50:40.729</td>\n",
       "      <td>2019-06-05 09:51:08.664</td>\n",
       "      <td>2019-06-05 13:29:22.454</td>\n",
       "      <td>127690</td>\n",
       "      <td>...</td>\n",
       "      <td>SAFE</td>\n",
       "      <td>S</td>\n",
       "      <td>VV VH</td>\n",
       "      <td>NOMINAL</td>\n",
       "      <td>ARCHIVED</td>\n",
       "      <td>8.46 GB</td>\n",
       "      <td>S1B_IW_SLC__1SDV_20190605T095040_20190605T0951...</td>\n",
       "      <td>b6962ccf-bd1b-4688-a83c-8e594b533c32</td>\n",
       "      <td>NaN</td>\n",
       "      <td>MULTIPOLYGON (((-63.87595 -18.20574, -63.47135...</td>\n",
       "    </tr>\n",
       "    <tr>\n",
       "      <th>1c77cec0-3b9e-4438-8403-53a53366e316</th>\n",
       "      <td>S1B_IW_GRDH_1SDV_20190605T095042_20190605T0951...</td>\n",
       "      <td>https://scihub.copernicus.eu/dhus/odata/v1/Pro...</td>\n",
       "      <td>https://scihub.copernicus.eu/dhus/odata/v1/Pro...</td>\n",
       "      <td>https://scihub.copernicus.eu/dhus/odata/v1/Pro...</td>\n",
       "      <td>Date: 2019-06-05T09:50:42.129Z, Instrument: SA...</td>\n",
       "      <td>false</td>\n",
       "      <td>2019-06-05 09:50:42.129</td>\n",
       "      <td>2019-06-05 09:51:07.127</td>\n",
       "      <td>2019-06-05 13:04:07.645</td>\n",
       "      <td>127690</td>\n",
       "      <td>...</td>\n",
       "      <td>SAFE</td>\n",
       "      <td>S</td>\n",
       "      <td>VV VH</td>\n",
       "      <td>NOMINAL</td>\n",
       "      <td>ARCHIVED</td>\n",
       "      <td>1.73 GB</td>\n",
       "      <td>S1B_IW_GRDH_1SDV_20190605T095042_20190605T0951...</td>\n",
       "      <td>1c77cec0-3b9e-4438-8403-53a53366e316</td>\n",
       "      <td>NaN</td>\n",
       "      <td>MULTIPOLYGON (((-63.87873 -18.10720, -63.49094...</td>\n",
       "    </tr>\n",
       "  </tbody>\n",
       "</table>\n",
       "<p>5 rows × 35 columns</p>\n",
       "</div>"
      ],
      "text/plain": [
       "                                                                                  title  \\\n",
       "b2d48736-85e2-4a65-8772-020b6a14841a  S1B_IW_SLC__1SDV_20190617T095041_20190617T0951...   \n",
       "95c12d6b-08b9-4736-aa45-48e6f53ada30  S1B_IW_GRDH_1SDV_20190617T095042_20190617T0951...   \n",
       "95bff302-9abf-416c-8199-b84a7068974d  S1B_IW_RAW__0SDV_20190617T095039_20190617T0951...   \n",
       "b6962ccf-bd1b-4688-a83c-8e594b533c32  S1B_IW_SLC__1SDV_20190605T095040_20190605T0951...   \n",
       "1c77cec0-3b9e-4438-8403-53a53366e316  S1B_IW_GRDH_1SDV_20190605T095042_20190605T0951...   \n",
       "\n",
       "                                                                                   link  \\\n",
       "b2d48736-85e2-4a65-8772-020b6a14841a  https://scihub.copernicus.eu/dhus/odata/v1/Pro...   \n",
       "95c12d6b-08b9-4736-aa45-48e6f53ada30  https://scihub.copernicus.eu/dhus/odata/v1/Pro...   \n",
       "95bff302-9abf-416c-8199-b84a7068974d  https://scihub.copernicus.eu/dhus/odata/v1/Pro...   \n",
       "b6962ccf-bd1b-4688-a83c-8e594b533c32  https://scihub.copernicus.eu/dhus/odata/v1/Pro...   \n",
       "1c77cec0-3b9e-4438-8403-53a53366e316  https://scihub.copernicus.eu/dhus/odata/v1/Pro...   \n",
       "\n",
       "                                                                       link_alternative  \\\n",
       "b2d48736-85e2-4a65-8772-020b6a14841a  https://scihub.copernicus.eu/dhus/odata/v1/Pro...   \n",
       "95c12d6b-08b9-4736-aa45-48e6f53ada30  https://scihub.copernicus.eu/dhus/odata/v1/Pro...   \n",
       "95bff302-9abf-416c-8199-b84a7068974d  https://scihub.copernicus.eu/dhus/odata/v1/Pro...   \n",
       "b6962ccf-bd1b-4688-a83c-8e594b533c32  https://scihub.copernicus.eu/dhus/odata/v1/Pro...   \n",
       "1c77cec0-3b9e-4438-8403-53a53366e316  https://scihub.copernicus.eu/dhus/odata/v1/Pro...   \n",
       "\n",
       "                                                                              link_icon  \\\n",
       "b2d48736-85e2-4a65-8772-020b6a14841a  https://scihub.copernicus.eu/dhus/odata/v1/Pro...   \n",
       "95c12d6b-08b9-4736-aa45-48e6f53ada30  https://scihub.copernicus.eu/dhus/odata/v1/Pro...   \n",
       "95bff302-9abf-416c-8199-b84a7068974d  https://scihub.copernicus.eu/dhus/odata/v1/Pro...   \n",
       "b6962ccf-bd1b-4688-a83c-8e594b533c32  https://scihub.copernicus.eu/dhus/odata/v1/Pro...   \n",
       "1c77cec0-3b9e-4438-8403-53a53366e316  https://scihub.copernicus.eu/dhus/odata/v1/Pro...   \n",
       "\n",
       "                                                                                summary  \\\n",
       "b2d48736-85e2-4a65-8772-020b6a14841a  Date: 2019-06-17T09:50:41.482Z, Instrument: SA...   \n",
       "95c12d6b-08b9-4736-aa45-48e6f53ada30  Date: 2019-06-17T09:50:42.88Z, Instrument: SAR...   \n",
       "95bff302-9abf-416c-8199-b84a7068974d  Date: 2019-06-17T09:50:39.179Z, Instrument: SA...   \n",
       "b6962ccf-bd1b-4688-a83c-8e594b533c32  Date: 2019-06-05T09:50:40.729Z, Instrument: SA...   \n",
       "1c77cec0-3b9e-4438-8403-53a53366e316  Date: 2019-06-05T09:50:42.129Z, Instrument: SA...   \n",
       "\n",
       "                                     ondemand           beginposition  \\\n",
       "b2d48736-85e2-4a65-8772-020b6a14841a    false 2019-06-17 09:50:41.482   \n",
       "95c12d6b-08b9-4736-aa45-48e6f53ada30    false 2019-06-17 09:50:42.880   \n",
       "95bff302-9abf-416c-8199-b84a7068974d    false 2019-06-17 09:50:39.179   \n",
       "b6962ccf-bd1b-4688-a83c-8e594b533c32    false 2019-06-05 09:50:40.729   \n",
       "1c77cec0-3b9e-4438-8403-53a53366e316    false 2019-06-05 09:50:42.129   \n",
       "\n",
       "                                                 endposition  \\\n",
       "b2d48736-85e2-4a65-8772-020b6a14841a 2019-06-17 09:51:09.413   \n",
       "95c12d6b-08b9-4736-aa45-48e6f53ada30 2019-06-17 09:51:07.878   \n",
       "95bff302-9abf-416c-8199-b84a7068974d 2019-06-17 09:51:11.579   \n",
       "b6962ccf-bd1b-4688-a83c-8e594b533c32 2019-06-05 09:51:08.664   \n",
       "1c77cec0-3b9e-4438-8403-53a53366e316 2019-06-05 09:51:07.127   \n",
       "\n",
       "                                               ingestiondate  \\\n",
       "b2d48736-85e2-4a65-8772-020b6a14841a 2019-06-17 14:55:12.755   \n",
       "95c12d6b-08b9-4736-aa45-48e6f53ada30 2019-06-17 14:25:26.891   \n",
       "95bff302-9abf-416c-8199-b84a7068974d 2019-06-17 13:12:25.066   \n",
       "b6962ccf-bd1b-4688-a83c-8e594b533c32 2019-06-05 13:29:22.454   \n",
       "1c77cec0-3b9e-4438-8403-53a53366e316 2019-06-05 13:04:07.645   \n",
       "\n",
       "                                      missiondatatakeid  ...  format  \\\n",
       "b2d48736-85e2-4a65-8772-020b6a14841a             129020  ...    SAFE   \n",
       "95c12d6b-08b9-4736-aa45-48e6f53ada30             129020  ...    SAFE   \n",
       "95bff302-9abf-416c-8199-b84a7068974d             129020  ...    SAFE   \n",
       "b6962ccf-bd1b-4688-a83c-8e594b533c32             127690  ...    SAFE   \n",
       "1c77cec0-3b9e-4438-8403-53a53366e316             127690  ...    SAFE   \n",
       "\n",
       "                                      productclass  polarisationmode  \\\n",
       "b2d48736-85e2-4a65-8772-020b6a14841a             S             VV VH   \n",
       "95c12d6b-08b9-4736-aa45-48e6f53ada30             S             VV VH   \n",
       "95bff302-9abf-416c-8199-b84a7068974d             S             VH VV   \n",
       "b6962ccf-bd1b-4688-a83c-8e594b533c32             S             VV VH   \n",
       "1c77cec0-3b9e-4438-8403-53a53366e316             S             VV VH   \n",
       "\n",
       "                                      acquisitiontype    status     size  \\\n",
       "b2d48736-85e2-4a65-8772-020b6a14841a          NOMINAL  ARCHIVED  8.46 GB   \n",
       "95c12d6b-08b9-4736-aa45-48e6f53ada30          NOMINAL  ARCHIVED  1.73 GB   \n",
       "95bff302-9abf-416c-8199-b84a7068974d          NOMINAL  ARCHIVED  1.61 GB   \n",
       "b6962ccf-bd1b-4688-a83c-8e594b533c32          NOMINAL  ARCHIVED  8.46 GB   \n",
       "1c77cec0-3b9e-4438-8403-53a53366e316          NOMINAL  ARCHIVED  1.73 GB   \n",
       "\n",
       "                                                                             identifier  \\\n",
       "b2d48736-85e2-4a65-8772-020b6a14841a  S1B_IW_SLC__1SDV_20190617T095041_20190617T0951...   \n",
       "95c12d6b-08b9-4736-aa45-48e6f53ada30  S1B_IW_GRDH_1SDV_20190617T095042_20190617T0951...   \n",
       "95bff302-9abf-416c-8199-b84a7068974d  S1B_IW_RAW__0SDV_20190617T095039_20190617T0951...   \n",
       "b6962ccf-bd1b-4688-a83c-8e594b533c32  S1B_IW_SLC__1SDV_20190605T095040_20190605T0951...   \n",
       "1c77cec0-3b9e-4438-8403-53a53366e316  S1B_IW_GRDH_1SDV_20190605T095042_20190605T0951...   \n",
       "\n",
       "                                                                      uuid  \\\n",
       "b2d48736-85e2-4a65-8772-020b6a14841a  b2d48736-85e2-4a65-8772-020b6a14841a   \n",
       "95c12d6b-08b9-4736-aa45-48e6f53ada30  95c12d6b-08b9-4736-aa45-48e6f53ada30   \n",
       "95bff302-9abf-416c-8199-b84a7068974d  95bff302-9abf-416c-8199-b84a7068974d   \n",
       "b6962ccf-bd1b-4688-a83c-8e594b533c32  b6962ccf-bd1b-4688-a83c-8e594b533c32   \n",
       "1c77cec0-3b9e-4438-8403-53a53366e316  1c77cec0-3b9e-4438-8403-53a53366e316   \n",
       "\n",
       "                                     productconsolidation  \\\n",
       "b2d48736-85e2-4a65-8772-020b6a14841a                  NaN   \n",
       "95c12d6b-08b9-4736-aa45-48e6f53ada30                  NaN   \n",
       "95bff302-9abf-416c-8199-b84a7068974d                SLICE   \n",
       "b6962ccf-bd1b-4688-a83c-8e594b533c32                  NaN   \n",
       "1c77cec0-3b9e-4438-8403-53a53366e316                  NaN   \n",
       "\n",
       "                                                                               geometry  \n",
       "b2d48736-85e2-4a65-8772-020b6a14841a  MULTIPOLYGON (((-63.87602 -18.20575, -63.47150...  \n",
       "95c12d6b-08b9-4736-aa45-48e6f53ada30  MULTIPOLYGON (((-63.87883 -18.10732, -63.49107...  \n",
       "95bff302-9abf-416c-8199-b84a7068974d  MULTIPOLYGON (((-63.91440 -18.54070, -63.43180...  \n",
       "b6962ccf-bd1b-4688-a83c-8e594b533c32  MULTIPOLYGON (((-63.87595 -18.20574, -63.47135...  \n",
       "1c77cec0-3b9e-4438-8403-53a53366e316  MULTIPOLYGON (((-63.87873 -18.10720, -63.49094...  \n",
       "\n",
       "[5 rows x 35 columns]"
      ]
     },
     "execution_count": 103,
     "metadata": {},
     "output_type": "execute_result"
    }
   ],
   "source": [
    "products_gdf.head()"
   ]
  }
 ],
 "metadata": {
  "interpreter": {
   "hash": "431a38007c8fb9a731a64f1465d289fa97bcde32cd09f1dc6325b86b2346d103"
  },
  "kernelspec": {
   "display_name": "Python 3.9.6 ('venv_spatial_3': venv)",
   "language": "python",
   "name": "python3"
  },
  "language_info": {
   "codemirror_mode": {
    "name": "ipython",
    "version": 3
   },
   "file_extension": ".py",
   "mimetype": "text/x-python",
   "name": "python",
   "nbconvert_exporter": "python",
   "pygments_lexer": "ipython3",
   "version": "3.9.6"
  },
  "orig_nbformat": 4
 },
 "nbformat": 4,
 "nbformat_minor": 2
}
